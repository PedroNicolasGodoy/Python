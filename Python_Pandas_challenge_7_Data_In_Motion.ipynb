{
  "nbformat": 4,
  "nbformat_minor": 0,
  "metadata": {
    "colab": {
      "provenance": []
    },
    "kernelspec": {
      "name": "python3",
      "display_name": "Python 3"
    },
    "language_info": {
      "name": "python"
    }
  },
  "cells": [
    {
      "cell_type": "markdown",
      "source": [
        "Leer en los datos:\n",
        "\n",
        "URL = ' https://raw. githubusercontent.com/ kedeisha1/Challenges/main/ coaster_db.csv '\n",
        "\n",
        "df = pd.read_csv(url)\n",
        "\n",
        "​\n",
        "\n",
        "Preguntas de desafío\n",
        "\n",
        "\n",
        "¿Cuántas columnas y filas hay en el conjunto de datos?\n",
        "\n",
        "¿Hay algún dato faltante?\n",
        "\n",
        "Muestre las estadísticas de resumen de las columnas numéricas utilizando el método de descripción.\n",
        "\n",
        "Cambie el nombre de las siguientes columnas:\n",
        "\n",
        "nombre_de_la_posavasos ➡️Nombre_de_los_posavasos\n",
        "\n",
        "año_introducido ➡️Año_introducido\n",
        "\n",
        "fecha_apertura_limpia ➡️Fecha_apertura\n",
        "\n",
        "velocidad_mph ➡️velocidad_mph\n",
        "\n",
        "altura_pies ➡️Altura_pies\n",
        "\n",
        "Inversiones_limpias ➡️Inversiones\n",
        "\n",
        "Gforce_limpiar ➡️Gforce\n",
        "\n",
        "¿Hay filas duplicadas?\n",
        "\n",
        "¿Cuáles son los 3 años principales con la mayor cantidad de montañas rusas introducidas?\n",
        "\n",
        "¿Cuál es la velocidad promedio? También muestra un gráfico para mostrar su distribución."
      ],
      "metadata": {
        "id": "8NNSDnOF0Mb0"
      }
    },
    {
      "cell_type": "code",
      "execution_count": 83,
      "metadata": {
        "colab": {
          "base_uri": "https://localhost:8080/",
          "height": 473
        },
        "id": "SnSCpSf8yZS0",
        "outputId": "246716b3-5d0f-421a-e466-523316cad147"
      },
      "outputs": [
        {
          "output_type": "execute_result",
          "data": {
            "text/plain": [
              "                             coaster_name          Length             Speed  \\\n",
              "0                      Switchback Railway  600 ft (180 m)  6 mph (9.7 km/h)   \n",
              "1                       Flip Flap Railway             NaN               NaN   \n",
              "2  Switchback Railway (Euclid Beach Park)             NaN               NaN   \n",
              "3            Loop the Loop (Coney Island)             NaN               NaN   \n",
              "4            Loop the Loop (Young's Pier)             NaN               NaN   \n",
              "\n",
              "                         Location   Status   Opening date   Type  \\\n",
              "0                    Coney Island  Removed  June 16, 1884   Wood   \n",
              "1                   Sea Lion Park  Removed           1895   Wood   \n",
              "2  Cleveland, Ohio, United States   Closed            NaN  Other   \n",
              "3                           Other  Removed           1901  Steel   \n",
              "4                           Other  Removed           1901  Steel   \n",
              "\n",
              "             Manufacturer Height restriction        Model  ...  speed1  \\\n",
              "0  LaMarcus Adna Thompson                NaN  Lift Packed  ...  6 mph    \n",
              "1            Lina Beecher                NaN          NaN  ...     NaN   \n",
              "2                     NaN                NaN          NaN  ...     NaN   \n",
              "3          Edwin Prescott                NaN          NaN  ...     NaN   \n",
              "4          Edwin Prescott                NaN          NaN  ...     NaN   \n",
              "\n",
              "     speed2 speed1_value speed1_unit speed_mph height_value height_unit  \\\n",
              "0  9.7 km/h          6.0         mph       6.0         50.0          ft   \n",
              "1       NaN          NaN         NaN       NaN          NaN         NaN   \n",
              "2       NaN          NaN         NaN       NaN          NaN         NaN   \n",
              "3       NaN          NaN         NaN       NaN          NaN         NaN   \n",
              "4       NaN          NaN         NaN       NaN          NaN         NaN   \n",
              "\n",
              "  height_ft Inversions_clean Gforce_clean  \n",
              "0       NaN                0          2.9  \n",
              "1       NaN                1         12.0  \n",
              "2       NaN                0          NaN  \n",
              "3       NaN                1          NaN  \n",
              "4       NaN                1          NaN  \n",
              "\n",
              "[5 rows x 56 columns]"
            ],
            "text/html": [
              "\n",
              "  <div id=\"df-6f50149c-6d4b-497c-b1c6-1f5e3618be4d\">\n",
              "    <div class=\"colab-df-container\">\n",
              "      <div>\n",
              "<style scoped>\n",
              "    .dataframe tbody tr th:only-of-type {\n",
              "        vertical-align: middle;\n",
              "    }\n",
              "\n",
              "    .dataframe tbody tr th {\n",
              "        vertical-align: top;\n",
              "    }\n",
              "\n",
              "    .dataframe thead th {\n",
              "        text-align: right;\n",
              "    }\n",
              "</style>\n",
              "<table border=\"1\" class=\"dataframe\">\n",
              "  <thead>\n",
              "    <tr style=\"text-align: right;\">\n",
              "      <th></th>\n",
              "      <th>coaster_name</th>\n",
              "      <th>Length</th>\n",
              "      <th>Speed</th>\n",
              "      <th>Location</th>\n",
              "      <th>Status</th>\n",
              "      <th>Opening date</th>\n",
              "      <th>Type</th>\n",
              "      <th>Manufacturer</th>\n",
              "      <th>Height restriction</th>\n",
              "      <th>Model</th>\n",
              "      <th>...</th>\n",
              "      <th>speed1</th>\n",
              "      <th>speed2</th>\n",
              "      <th>speed1_value</th>\n",
              "      <th>speed1_unit</th>\n",
              "      <th>speed_mph</th>\n",
              "      <th>height_value</th>\n",
              "      <th>height_unit</th>\n",
              "      <th>height_ft</th>\n",
              "      <th>Inversions_clean</th>\n",
              "      <th>Gforce_clean</th>\n",
              "    </tr>\n",
              "  </thead>\n",
              "  <tbody>\n",
              "    <tr>\n",
              "      <th>0</th>\n",
              "      <td>Switchback Railway</td>\n",
              "      <td>600 ft (180 m)</td>\n",
              "      <td>6 mph (9.7 km/h)</td>\n",
              "      <td>Coney Island</td>\n",
              "      <td>Removed</td>\n",
              "      <td>June 16, 1884</td>\n",
              "      <td>Wood</td>\n",
              "      <td>LaMarcus Adna Thompson</td>\n",
              "      <td>NaN</td>\n",
              "      <td>Lift Packed</td>\n",
              "      <td>...</td>\n",
              "      <td>6 mph</td>\n",
              "      <td>9.7 km/h</td>\n",
              "      <td>6.0</td>\n",
              "      <td>mph</td>\n",
              "      <td>6.0</td>\n",
              "      <td>50.0</td>\n",
              "      <td>ft</td>\n",
              "      <td>NaN</td>\n",
              "      <td>0</td>\n",
              "      <td>2.9</td>\n",
              "    </tr>\n",
              "    <tr>\n",
              "      <th>1</th>\n",
              "      <td>Flip Flap Railway</td>\n",
              "      <td>NaN</td>\n",
              "      <td>NaN</td>\n",
              "      <td>Sea Lion Park</td>\n",
              "      <td>Removed</td>\n",
              "      <td>1895</td>\n",
              "      <td>Wood</td>\n",
              "      <td>Lina Beecher</td>\n",
              "      <td>NaN</td>\n",
              "      <td>NaN</td>\n",
              "      <td>...</td>\n",
              "      <td>NaN</td>\n",
              "      <td>NaN</td>\n",
              "      <td>NaN</td>\n",
              "      <td>NaN</td>\n",
              "      <td>NaN</td>\n",
              "      <td>NaN</td>\n",
              "      <td>NaN</td>\n",
              "      <td>NaN</td>\n",
              "      <td>1</td>\n",
              "      <td>12.0</td>\n",
              "    </tr>\n",
              "    <tr>\n",
              "      <th>2</th>\n",
              "      <td>Switchback Railway (Euclid Beach Park)</td>\n",
              "      <td>NaN</td>\n",
              "      <td>NaN</td>\n",
              "      <td>Cleveland, Ohio, United States</td>\n",
              "      <td>Closed</td>\n",
              "      <td>NaN</td>\n",
              "      <td>Other</td>\n",
              "      <td>NaN</td>\n",
              "      <td>NaN</td>\n",
              "      <td>NaN</td>\n",
              "      <td>...</td>\n",
              "      <td>NaN</td>\n",
              "      <td>NaN</td>\n",
              "      <td>NaN</td>\n",
              "      <td>NaN</td>\n",
              "      <td>NaN</td>\n",
              "      <td>NaN</td>\n",
              "      <td>NaN</td>\n",
              "      <td>NaN</td>\n",
              "      <td>0</td>\n",
              "      <td>NaN</td>\n",
              "    </tr>\n",
              "    <tr>\n",
              "      <th>3</th>\n",
              "      <td>Loop the Loop (Coney Island)</td>\n",
              "      <td>NaN</td>\n",
              "      <td>NaN</td>\n",
              "      <td>Other</td>\n",
              "      <td>Removed</td>\n",
              "      <td>1901</td>\n",
              "      <td>Steel</td>\n",
              "      <td>Edwin Prescott</td>\n",
              "      <td>NaN</td>\n",
              "      <td>NaN</td>\n",
              "      <td>...</td>\n",
              "      <td>NaN</td>\n",
              "      <td>NaN</td>\n",
              "      <td>NaN</td>\n",
              "      <td>NaN</td>\n",
              "      <td>NaN</td>\n",
              "      <td>NaN</td>\n",
              "      <td>NaN</td>\n",
              "      <td>NaN</td>\n",
              "      <td>1</td>\n",
              "      <td>NaN</td>\n",
              "    </tr>\n",
              "    <tr>\n",
              "      <th>4</th>\n",
              "      <td>Loop the Loop (Young's Pier)</td>\n",
              "      <td>NaN</td>\n",
              "      <td>NaN</td>\n",
              "      <td>Other</td>\n",
              "      <td>Removed</td>\n",
              "      <td>1901</td>\n",
              "      <td>Steel</td>\n",
              "      <td>Edwin Prescott</td>\n",
              "      <td>NaN</td>\n",
              "      <td>NaN</td>\n",
              "      <td>...</td>\n",
              "      <td>NaN</td>\n",
              "      <td>NaN</td>\n",
              "      <td>NaN</td>\n",
              "      <td>NaN</td>\n",
              "      <td>NaN</td>\n",
              "      <td>NaN</td>\n",
              "      <td>NaN</td>\n",
              "      <td>NaN</td>\n",
              "      <td>1</td>\n",
              "      <td>NaN</td>\n",
              "    </tr>\n",
              "  </tbody>\n",
              "</table>\n",
              "<p>5 rows × 56 columns</p>\n",
              "</div>\n",
              "      <button class=\"colab-df-convert\" onclick=\"convertToInteractive('df-6f50149c-6d4b-497c-b1c6-1f5e3618be4d')\"\n",
              "              title=\"Convert this dataframe to an interactive table.\"\n",
              "              style=\"display:none;\">\n",
              "        \n",
              "  <svg xmlns=\"http://www.w3.org/2000/svg\" height=\"24px\"viewBox=\"0 0 24 24\"\n",
              "       width=\"24px\">\n",
              "    <path d=\"M0 0h24v24H0V0z\" fill=\"none\"/>\n",
              "    <path d=\"M18.56 5.44l.94 2.06.94-2.06 2.06-.94-2.06-.94-.94-2.06-.94 2.06-2.06.94zm-11 1L8.5 8.5l.94-2.06 2.06-.94-2.06-.94L8.5 2.5l-.94 2.06-2.06.94zm10 10l.94 2.06.94-2.06 2.06-.94-2.06-.94-.94-2.06-.94 2.06-2.06.94z\"/><path d=\"M17.41 7.96l-1.37-1.37c-.4-.4-.92-.59-1.43-.59-.52 0-1.04.2-1.43.59L10.3 9.45l-7.72 7.72c-.78.78-.78 2.05 0 2.83L4 21.41c.39.39.9.59 1.41.59.51 0 1.02-.2 1.41-.59l7.78-7.78 2.81-2.81c.8-.78.8-2.07 0-2.86zM5.41 20L4 18.59l7.72-7.72 1.47 1.35L5.41 20z\"/>\n",
              "  </svg>\n",
              "      </button>\n",
              "      \n",
              "  <style>\n",
              "    .colab-df-container {\n",
              "      display:flex;\n",
              "      flex-wrap:wrap;\n",
              "      gap: 12px;\n",
              "    }\n",
              "\n",
              "    .colab-df-convert {\n",
              "      background-color: #E8F0FE;\n",
              "      border: none;\n",
              "      border-radius: 50%;\n",
              "      cursor: pointer;\n",
              "      display: none;\n",
              "      fill: #1967D2;\n",
              "      height: 32px;\n",
              "      padding: 0 0 0 0;\n",
              "      width: 32px;\n",
              "    }\n",
              "\n",
              "    .colab-df-convert:hover {\n",
              "      background-color: #E2EBFA;\n",
              "      box-shadow: 0px 1px 2px rgba(60, 64, 67, 0.3), 0px 1px 3px 1px rgba(60, 64, 67, 0.15);\n",
              "      fill: #174EA6;\n",
              "    }\n",
              "\n",
              "    [theme=dark] .colab-df-convert {\n",
              "      background-color: #3B4455;\n",
              "      fill: #D2E3FC;\n",
              "    }\n",
              "\n",
              "    [theme=dark] .colab-df-convert:hover {\n",
              "      background-color: #434B5C;\n",
              "      box-shadow: 0px 1px 3px 1px rgba(0, 0, 0, 0.15);\n",
              "      filter: drop-shadow(0px 1px 2px rgba(0, 0, 0, 0.3));\n",
              "      fill: #FFFFFF;\n",
              "    }\n",
              "  </style>\n",
              "\n",
              "      <script>\n",
              "        const buttonEl =\n",
              "          document.querySelector('#df-6f50149c-6d4b-497c-b1c6-1f5e3618be4d button.colab-df-convert');\n",
              "        buttonEl.style.display =\n",
              "          google.colab.kernel.accessAllowed ? 'block' : 'none';\n",
              "\n",
              "        async function convertToInteractive(key) {\n",
              "          const element = document.querySelector('#df-6f50149c-6d4b-497c-b1c6-1f5e3618be4d');\n",
              "          const dataTable =\n",
              "            await google.colab.kernel.invokeFunction('convertToInteractive',\n",
              "                                                     [key], {});\n",
              "          if (!dataTable) return;\n",
              "\n",
              "          const docLinkHtml = 'Like what you see? Visit the ' +\n",
              "            '<a target=\"_blank\" href=https://colab.research.google.com/notebooks/data_table.ipynb>data table notebook</a>'\n",
              "            + ' to learn more about interactive tables.';\n",
              "          element.innerHTML = '';\n",
              "          dataTable['output_type'] = 'display_data';\n",
              "          await google.colab.output.renderOutput(dataTable, element);\n",
              "          const docLink = document.createElement('div');\n",
              "          docLink.innerHTML = docLinkHtml;\n",
              "          element.appendChild(docLink);\n",
              "        }\n",
              "      </script>\n",
              "    </div>\n",
              "  </div>\n",
              "  "
            ]
          },
          "metadata": {},
          "execution_count": 83
        }
      ],
      "source": [
        "import pandas as pd\n",
        "import matplotlib.pyplot as plt\n",
        "import numpy as np\n",
        "\n",
        "\n",
        "df_coaster = pd.read_csv('https://raw.githubusercontent.com/kedeisha1/Challenges/main/coaster_db.csv')\n",
        "\n",
        "#mostrar tabla\n",
        "df_coaster.head()"
      ]
    },
    {
      "cell_type": "markdown",
      "source": [
        "# **¿Cuántas columnas y filas hay en el conjunto de datos?**"
      ],
      "metadata": {
        "id": "bTn7BNYCZ11x"
      }
    },
    {
      "cell_type": "code",
      "source": [
        "#mostrar la cantidad de columnas del dataset\n",
        "df_coaster.shape[1]"
      ],
      "metadata": {
        "colab": {
          "base_uri": "https://localhost:8080/"
        },
        "id": "lTp5jbe24VQY",
        "outputId": "19f9e222-cb2b-49e0-d394-a24c47489d32"
      },
      "execution_count": null,
      "outputs": [
        {
          "output_type": "execute_result",
          "data": {
            "text/plain": [
              "56"
            ]
          },
          "metadata": {},
          "execution_count": 14
        }
      ]
    },
    {
      "cell_type": "code",
      "source": [
        "#mostrar cantidad de filas\n",
        "len(df_coaster.index)"
      ],
      "metadata": {
        "colab": {
          "base_uri": "https://localhost:8080/"
        },
        "id": "xWhmZket4EkJ",
        "outputId": "f5197034-1ec1-4b1a-e096-dd62ea594aa5"
      },
      "execution_count": null,
      "outputs": [
        {
          "output_type": "execute_result",
          "data": {
            "text/plain": [
              "1087"
            ]
          },
          "metadata": {},
          "execution_count": 9
        }
      ]
    },
    {
      "cell_type": "markdown",
      "source": [
        "# **¿Hay algún dato faltante?**"
      ],
      "metadata": {
        "id": "cjPP7Rl2Z_3p"
      }
    },
    {
      "cell_type": "code",
      "source": [
        "# Hay datos faltantes? Cantidad de datos por columna\n",
        "\n",
        "df_coaster.isnull().sum()"
      ],
      "metadata": {
        "colab": {
          "base_uri": "https://localhost:8080/"
        },
        "id": "tQn-Bazx5BPr",
        "outputId": "1fff2004-e414-47d7-9d0c-744fafef1c70"
      },
      "execution_count": null,
      "outputs": [
        {
          "output_type": "execute_result",
          "data": {
            "text/plain": [
              "coaster_name                        0\n",
              "Length                            134\n",
              "Speed                             150\n",
              "Location                            0\n",
              "Status                            213\n",
              "Opening date                      250\n",
              "Type                                0\n",
              "Manufacturer                       59\n",
              "Height restriction                256\n",
              "Model                             343\n",
              "Height                            122\n",
              "Inversions                        155\n",
              "Lift/launch system                292\n",
              "Cost                              705\n",
              "Trains                            369\n",
              "Park section                      600\n",
              "Duration                          322\n",
              "Capacity                          512\n",
              "G-force                           725\n",
              "Designer                          509\n",
              "Max vertical angle                730\n",
              "Drop                              593\n",
              "Soft opening date                 991\n",
              "Fast Lane available              1018\n",
              "Replaced                          914\n",
              "Track layout                      752\n",
              "Fastrack available               1068\n",
              "Soft opening date.1               991\n",
              "Closing date                      851\n",
              "Opened                           1060\n",
              "Replaced by                       999\n",
              "Website                          1000\n",
              "Flash Pass Available             1037\n",
              "Must transfer from wheelchair     981\n",
              "Theme                            1043\n",
              "Single rider line available      1006\n",
              "Restraint Style                  1065\n",
              "Flash Pass available             1041\n",
              "Acceleration                     1027\n",
              "Restraints                       1063\n",
              "Name                             1052\n",
              "year_introduced                     0\n",
              "latitude                          275\n",
              "longitude                         275\n",
              "Type_Main                           0\n",
              "opening_date_clean                250\n",
              "speed1                            150\n",
              "speed2                            152\n",
              "speed1_value                      150\n",
              "speed1_unit                       150\n",
              "speed_mph                         150\n",
              "height_value                      122\n",
              "height_unit                       122\n",
              "height_ft                         916\n",
              "Inversions_clean                    0\n",
              "Gforce_clean                      725\n",
              "dtype: int64"
            ]
          },
          "metadata": {},
          "execution_count": 57
        }
      ]
    },
    {
      "cell_type": "markdown",
      "source": [
        "# **Muestre las estadísticas de resumen de las columnas numéricas utilizando el método de descripción.**"
      ],
      "metadata": {
        "id": "pOymoqcMdATK"
      }
    },
    {
      "cell_type": "code",
      "source": [
        "#resumen de Estadística Descriptiva General\n",
        "\n",
        "df_coaster.describe()"
      ],
      "metadata": {
        "colab": {
          "base_uri": "https://localhost:8080/",
          "height": 300
        },
        "id": "xl9Jj6bf7PVp",
        "outputId": "e3265723-a394-46fc-b6a3-8ec92cc95f51"
      },
      "execution_count": null,
      "outputs": [
        {
          "output_type": "execute_result",
          "data": {
            "text/plain": [
              "       Inversions  year_introduced    latitude   longitude  speed1_value  \\\n",
              "count  932.000000      1087.000000  812.000000  812.000000    937.000000   \n",
              "mean     1.547210      1994.986201   38.373484  -41.595373     53.850374   \n",
              "std      2.114073        23.475248   15.516596   72.285227     23.385518   \n",
              "min      0.000000      1884.000000  -48.261700 -123.035700      5.000000   \n",
              "25%      0.000000      1989.000000   35.031050  -84.552200     40.000000   \n",
              "50%      0.000000      2000.000000   40.289800  -76.653600     50.000000   \n",
              "75%      3.000000      2010.000000   44.799600    2.778100     63.000000   \n",
              "max     14.000000      2022.000000   63.230900  153.426500    240.000000   \n",
              "\n",
              "        speed_mph  height_value   height_ft  Inversions_clean  Gforce_clean  \n",
              "count  937.000000    965.000000  171.000000       1087.000000    362.000000  \n",
              "mean    48.617289     89.575171  101.996491          1.326587      3.824006  \n",
              "std     16.678031    136.246444   67.329092          2.030854      0.989998  \n",
              "min      5.000000      4.000000   13.100000          0.000000      0.800000  \n",
              "25%     37.300000     44.000000   51.800000          0.000000      3.400000  \n",
              "50%     49.700000     79.000000   91.200000          0.000000      4.000000  \n",
              "75%     58.000000    113.000000  131.200000          2.000000      4.500000  \n",
              "max    149.100000   3937.000000  377.300000         14.000000     12.000000  "
            ],
            "text/html": [
              "\n",
              "  <div id=\"df-19c440fa-7a91-475b-9720-23aa53a4473e\">\n",
              "    <div class=\"colab-df-container\">\n",
              "      <div>\n",
              "<style scoped>\n",
              "    .dataframe tbody tr th:only-of-type {\n",
              "        vertical-align: middle;\n",
              "    }\n",
              "\n",
              "    .dataframe tbody tr th {\n",
              "        vertical-align: top;\n",
              "    }\n",
              "\n",
              "    .dataframe thead th {\n",
              "        text-align: right;\n",
              "    }\n",
              "</style>\n",
              "<table border=\"1\" class=\"dataframe\">\n",
              "  <thead>\n",
              "    <tr style=\"text-align: right;\">\n",
              "      <th></th>\n",
              "      <th>Inversions</th>\n",
              "      <th>year_introduced</th>\n",
              "      <th>latitude</th>\n",
              "      <th>longitude</th>\n",
              "      <th>speed1_value</th>\n",
              "      <th>speed_mph</th>\n",
              "      <th>height_value</th>\n",
              "      <th>height_ft</th>\n",
              "      <th>Inversions_clean</th>\n",
              "      <th>Gforce_clean</th>\n",
              "    </tr>\n",
              "  </thead>\n",
              "  <tbody>\n",
              "    <tr>\n",
              "      <th>count</th>\n",
              "      <td>932.000000</td>\n",
              "      <td>1087.000000</td>\n",
              "      <td>812.000000</td>\n",
              "      <td>812.000000</td>\n",
              "      <td>937.000000</td>\n",
              "      <td>937.000000</td>\n",
              "      <td>965.000000</td>\n",
              "      <td>171.000000</td>\n",
              "      <td>1087.000000</td>\n",
              "      <td>362.000000</td>\n",
              "    </tr>\n",
              "    <tr>\n",
              "      <th>mean</th>\n",
              "      <td>1.547210</td>\n",
              "      <td>1994.986201</td>\n",
              "      <td>38.373484</td>\n",
              "      <td>-41.595373</td>\n",
              "      <td>53.850374</td>\n",
              "      <td>48.617289</td>\n",
              "      <td>89.575171</td>\n",
              "      <td>101.996491</td>\n",
              "      <td>1.326587</td>\n",
              "      <td>3.824006</td>\n",
              "    </tr>\n",
              "    <tr>\n",
              "      <th>std</th>\n",
              "      <td>2.114073</td>\n",
              "      <td>23.475248</td>\n",
              "      <td>15.516596</td>\n",
              "      <td>72.285227</td>\n",
              "      <td>23.385518</td>\n",
              "      <td>16.678031</td>\n",
              "      <td>136.246444</td>\n",
              "      <td>67.329092</td>\n",
              "      <td>2.030854</td>\n",
              "      <td>0.989998</td>\n",
              "    </tr>\n",
              "    <tr>\n",
              "      <th>min</th>\n",
              "      <td>0.000000</td>\n",
              "      <td>1884.000000</td>\n",
              "      <td>-48.261700</td>\n",
              "      <td>-123.035700</td>\n",
              "      <td>5.000000</td>\n",
              "      <td>5.000000</td>\n",
              "      <td>4.000000</td>\n",
              "      <td>13.100000</td>\n",
              "      <td>0.000000</td>\n",
              "      <td>0.800000</td>\n",
              "    </tr>\n",
              "    <tr>\n",
              "      <th>25%</th>\n",
              "      <td>0.000000</td>\n",
              "      <td>1989.000000</td>\n",
              "      <td>35.031050</td>\n",
              "      <td>-84.552200</td>\n",
              "      <td>40.000000</td>\n",
              "      <td>37.300000</td>\n",
              "      <td>44.000000</td>\n",
              "      <td>51.800000</td>\n",
              "      <td>0.000000</td>\n",
              "      <td>3.400000</td>\n",
              "    </tr>\n",
              "    <tr>\n",
              "      <th>50%</th>\n",
              "      <td>0.000000</td>\n",
              "      <td>2000.000000</td>\n",
              "      <td>40.289800</td>\n",
              "      <td>-76.653600</td>\n",
              "      <td>50.000000</td>\n",
              "      <td>49.700000</td>\n",
              "      <td>79.000000</td>\n",
              "      <td>91.200000</td>\n",
              "      <td>0.000000</td>\n",
              "      <td>4.000000</td>\n",
              "    </tr>\n",
              "    <tr>\n",
              "      <th>75%</th>\n",
              "      <td>3.000000</td>\n",
              "      <td>2010.000000</td>\n",
              "      <td>44.799600</td>\n",
              "      <td>2.778100</td>\n",
              "      <td>63.000000</td>\n",
              "      <td>58.000000</td>\n",
              "      <td>113.000000</td>\n",
              "      <td>131.200000</td>\n",
              "      <td>2.000000</td>\n",
              "      <td>4.500000</td>\n",
              "    </tr>\n",
              "    <tr>\n",
              "      <th>max</th>\n",
              "      <td>14.000000</td>\n",
              "      <td>2022.000000</td>\n",
              "      <td>63.230900</td>\n",
              "      <td>153.426500</td>\n",
              "      <td>240.000000</td>\n",
              "      <td>149.100000</td>\n",
              "      <td>3937.000000</td>\n",
              "      <td>377.300000</td>\n",
              "      <td>14.000000</td>\n",
              "      <td>12.000000</td>\n",
              "    </tr>\n",
              "  </tbody>\n",
              "</table>\n",
              "</div>\n",
              "      <button class=\"colab-df-convert\" onclick=\"convertToInteractive('df-19c440fa-7a91-475b-9720-23aa53a4473e')\"\n",
              "              title=\"Convert this dataframe to an interactive table.\"\n",
              "              style=\"display:none;\">\n",
              "        \n",
              "  <svg xmlns=\"http://www.w3.org/2000/svg\" height=\"24px\"viewBox=\"0 0 24 24\"\n",
              "       width=\"24px\">\n",
              "    <path d=\"M0 0h24v24H0V0z\" fill=\"none\"/>\n",
              "    <path d=\"M18.56 5.44l.94 2.06.94-2.06 2.06-.94-2.06-.94-.94-2.06-.94 2.06-2.06.94zm-11 1L8.5 8.5l.94-2.06 2.06-.94-2.06-.94L8.5 2.5l-.94 2.06-2.06.94zm10 10l.94 2.06.94-2.06 2.06-.94-2.06-.94-.94-2.06-.94 2.06-2.06.94z\"/><path d=\"M17.41 7.96l-1.37-1.37c-.4-.4-.92-.59-1.43-.59-.52 0-1.04.2-1.43.59L10.3 9.45l-7.72 7.72c-.78.78-.78 2.05 0 2.83L4 21.41c.39.39.9.59 1.41.59.51 0 1.02-.2 1.41-.59l7.78-7.78 2.81-2.81c.8-.78.8-2.07 0-2.86zM5.41 20L4 18.59l7.72-7.72 1.47 1.35L5.41 20z\"/>\n",
              "  </svg>\n",
              "      </button>\n",
              "      \n",
              "  <style>\n",
              "    .colab-df-container {\n",
              "      display:flex;\n",
              "      flex-wrap:wrap;\n",
              "      gap: 12px;\n",
              "    }\n",
              "\n",
              "    .colab-df-convert {\n",
              "      background-color: #E8F0FE;\n",
              "      border: none;\n",
              "      border-radius: 50%;\n",
              "      cursor: pointer;\n",
              "      display: none;\n",
              "      fill: #1967D2;\n",
              "      height: 32px;\n",
              "      padding: 0 0 0 0;\n",
              "      width: 32px;\n",
              "    }\n",
              "\n",
              "    .colab-df-convert:hover {\n",
              "      background-color: #E2EBFA;\n",
              "      box-shadow: 0px 1px 2px rgba(60, 64, 67, 0.3), 0px 1px 3px 1px rgba(60, 64, 67, 0.15);\n",
              "      fill: #174EA6;\n",
              "    }\n",
              "\n",
              "    [theme=dark] .colab-df-convert {\n",
              "      background-color: #3B4455;\n",
              "      fill: #D2E3FC;\n",
              "    }\n",
              "\n",
              "    [theme=dark] .colab-df-convert:hover {\n",
              "      background-color: #434B5C;\n",
              "      box-shadow: 0px 1px 3px 1px rgba(0, 0, 0, 0.15);\n",
              "      filter: drop-shadow(0px 1px 2px rgba(0, 0, 0, 0.3));\n",
              "      fill: #FFFFFF;\n",
              "    }\n",
              "  </style>\n",
              "\n",
              "      <script>\n",
              "        const buttonEl =\n",
              "          document.querySelector('#df-19c440fa-7a91-475b-9720-23aa53a4473e button.colab-df-convert');\n",
              "        buttonEl.style.display =\n",
              "          google.colab.kernel.accessAllowed ? 'block' : 'none';\n",
              "\n",
              "        async function convertToInteractive(key) {\n",
              "          const element = document.querySelector('#df-19c440fa-7a91-475b-9720-23aa53a4473e');\n",
              "          const dataTable =\n",
              "            await google.colab.kernel.invokeFunction('convertToInteractive',\n",
              "                                                     [key], {});\n",
              "          if (!dataTable) return;\n",
              "\n",
              "          const docLinkHtml = 'Like what you see? Visit the ' +\n",
              "            '<a target=\"_blank\" href=https://colab.research.google.com/notebooks/data_table.ipynb>data table notebook</a>'\n",
              "            + ' to learn more about interactive tables.';\n",
              "          element.innerHTML = '';\n",
              "          dataTable['output_type'] = 'display_data';\n",
              "          await google.colab.output.renderOutput(dataTable, element);\n",
              "          const docLink = document.createElement('div');\n",
              "          docLink.innerHTML = docLinkHtml;\n",
              "          element.appendChild(docLink);\n",
              "        }\n",
              "      </script>\n",
              "    </div>\n",
              "  </div>\n",
              "  "
            ]
          },
          "metadata": {},
          "execution_count": 18
        }
      ]
    },
    {
      "cell_type": "markdown",
      "source": [
        "**# Cambie el nombre de las siguientes columnas:**\n",
        "\n",
        "nombre_de_la_posavasos ➡️Nombre_de_los_posavasos\n",
        "\n",
        "\n",
        "año_introducido ➡️Año_introducido\n",
        "\n",
        "\n",
        "fecha_apertura_limpia ➡️Fecha_apertura\n",
        "\n",
        "\n",
        "velocidad_mph ➡️velocidad_mph\n",
        "\n",
        "\n",
        "altura_pies ➡️Altura_pies\n",
        "\n",
        "\n",
        "Inversiones_limpias ➡️Inversiones\n",
        "\n",
        "\n",
        "Gforce_limpiar ➡️Gforce\n"
      ],
      "metadata": {
        "id": "PqXQKyyTdF8a"
      }
    },
    {
      "cell_type": "code",
      "source": [
        "#Reasignando nombre de columnas seleccionadas\n",
        "df_coaster2 = df_coaster.rename(columns={'coaster_name':'Coaster_Name', \n",
        "                'year_introduced':'Year_Introduced',\n",
        "                'opening_date_clean':'Opening_Date', \n",
        "                'speed_mph':'Speed_mph', \n",
        "                'height_ft':'Height_ft', \n",
        "                'Inversions_clean':'Inversions',\n",
        "                'Gforce_clean':'Gforce'})\n",
        "df_coaster2.columns"
      ],
      "metadata": {
        "colab": {
          "base_uri": "https://localhost:8080/"
        },
        "id": "g0J0lr029WGD",
        "outputId": "1acc3125-18ea-4e91-e9ff-517a87d97f9a"
      },
      "execution_count": null,
      "outputs": [
        {
          "output_type": "execute_result",
          "data": {
            "text/plain": [
              "Index(['Coaster_Name', 'Length', 'Speed', 'Location', 'Status', 'Opening date',\n",
              "       'Type', 'Manufacturer', 'Height restriction', 'Model', 'Height',\n",
              "       'Inversions', 'Lift/launch system', 'Cost', 'Trains', 'Park section',\n",
              "       'Duration', 'Capacity', 'G-force', 'Designer', 'Max vertical angle',\n",
              "       'Drop', 'Soft opening date', 'Fast Lane available', 'Replaced',\n",
              "       'Track layout', 'Fastrack available', 'Soft opening date.1',\n",
              "       'Closing date', 'Opened', 'Replaced by', 'Website',\n",
              "       'Flash Pass Available', 'Must transfer from wheelchair', 'Theme',\n",
              "       'Single rider line available', 'Restraint Style',\n",
              "       'Flash Pass available', 'Acceleration', 'Restraints', 'Name',\n",
              "       'Year_Introduced', 'latitude', 'longitude', 'Type_Main', 'Opening_Date',\n",
              "       'speed1', 'speed2', 'speed1_value', 'speed1_unit', 'Speed_mph',\n",
              "       'height_value', 'height_unit', 'Height_ft', 'Inversions', 'Gforce'],\n",
              "      dtype='object')"
            ]
          },
          "metadata": {},
          "execution_count": 23
        }
      ]
    },
    {
      "cell_type": "markdown",
      "source": [
        "# **¿Hay filas duplicadas?**"
      ],
      "metadata": {
        "id": "OLsl9s5XdY_a"
      }
    },
    {
      "cell_type": "code",
      "source": [
        "#Método booleano para saber si hay filas duplicadas o no\n",
        "\n",
        "df_coaster.duplicated()"
      ],
      "metadata": {
        "colab": {
          "base_uri": "https://localhost:8080/"
        },
        "id": "cxxONwSe_FBK",
        "outputId": "601c4e4e-e97e-41ac-ce01-559f5d630f47"
      },
      "execution_count": null,
      "outputs": [
        {
          "output_type": "execute_result",
          "data": {
            "text/plain": [
              "0       False\n",
              "1       False\n",
              "2       False\n",
              "3       False\n",
              "4       False\n",
              "        ...  \n",
              "1082    False\n",
              "1083    False\n",
              "1084    False\n",
              "1085    False\n",
              "1086    False\n",
              "Length: 1087, dtype: bool"
            ]
          },
          "metadata": {},
          "execution_count": 26
        }
      ]
    },
    {
      "cell_type": "code",
      "source": [
        "#Agregamos SUM para saber cantidad de \"Verdadero\"\n",
        "\n",
        "df_coaster.duplicated().sum()"
      ],
      "metadata": {
        "colab": {
          "base_uri": "https://localhost:8080/"
        },
        "id": "X1guQVMOAJ47",
        "outputId": "b031305c-1479-49a1-fe19-253f0ea464e2"
      },
      "execution_count": 102,
      "outputs": [
        {
          "output_type": "execute_result",
          "data": {
            "text/plain": [
              "0"
            ]
          },
          "metadata": {},
          "execution_count": 102
        }
      ]
    },
    {
      "cell_type": "markdown",
      "source": [
        "# **¿Cuáles son los 3 años principales con la mayor cantidad de montañas rusas introducidas?**"
      ],
      "metadata": {
        "id": "T-T34YPFdc5b"
      }
    },
    {
      "cell_type": "code",
      "source": [
        "#Cantidad de aperturas que figura en cada año\n",
        "df_coaster['Opening date'].value_counts(sort=True)"
      ],
      "metadata": {
        "colab": {
          "base_uri": "https://localhost:8080/"
        },
        "id": "NbZu3_nmCDo8",
        "outputId": "46434c8a-6e55-4d74-ee22-f6c4efedf8c5"
      },
      "execution_count": null,
      "outputs": [
        {
          "output_type": "execute_result",
          "data": {
            "text/plain": [
              "1972              7\n",
              "1998              7\n",
              "1976              7\n",
              "1999              7\n",
              "2022              6\n",
              "                 ..\n",
              "March 22, 1997    1\n",
              "May 26, 1996      1\n",
              "April 27, 1996    1\n",
              "June 3, 1996      1\n",
              "Easter 2022       1\n",
              "Name: Opening date, Length: 656, dtype: int64"
            ]
          },
          "metadata": {},
          "execution_count": 59
        }
      ]
    },
    {
      "cell_type": "markdown",
      "source": [
        "# **¿Cuál es la velocidad promedio?**"
      ],
      "metadata": {
        "id": "0ZCjmWLbgCEk"
      }
    },
    {
      "cell_type": "code",
      "source": [
        "df_coaster.mean()\n"
      ],
      "metadata": {
        "colab": {
          "base_uri": "https://localhost:8080/"
        },
        "id": "Dp61ZKvHgGMb",
        "outputId": "8e567cc0-3333-449f-bf70-bd264788555b"
      },
      "execution_count": 84,
      "outputs": [
        {
          "output_type": "stream",
          "name": "stderr",
          "text": [
            "<ipython-input-84-f61cdc725d02>:1: FutureWarning: Dropping of nuisance columns in DataFrame reductions (with 'numeric_only=None') is deprecated; in a future version this will raise TypeError.  Select only valid columns before calling the reduction.\n",
            "  df_coaster.mean()\n"
          ]
        },
        {
          "output_type": "execute_result",
          "data": {
            "text/plain": [
              "Inversions             1.547210\n",
              "year_introduced     1994.986201\n",
              "latitude              38.373484\n",
              "longitude            -41.595373\n",
              "speed1_value          53.850374\n",
              "speed_mph             48.617289\n",
              "height_value          89.575171\n",
              "height_ft            101.996491\n",
              "Inversions_clean       1.326587\n",
              "Gforce_clean           3.824006\n",
              "dtype: float64"
            ]
          },
          "metadata": {},
          "execution_count": 84
        }
      ]
    },
    {
      "cell_type": "markdown",
      "source": [
        "# **También muestra un gráfico para mostrar su distribución**"
      ],
      "metadata": {
        "id": "0D6FvGGs2TmX"
      }
    },
    {
      "cell_type": "code",
      "source": [
        "plt.hist(df_coaster.mean())\n",
        "\n",
        "plt.show()\n",
        "\n"
      ],
      "metadata": {
        "colab": {
          "base_uri": "https://localhost:8080/",
          "height": 322
        },
        "id": "_6wzkQD62X7Q",
        "outputId": "68bb0bd9-08fb-4601-be79-16df7c9507b3"
      },
      "execution_count": 112,
      "outputs": [
        {
          "output_type": "stream",
          "name": "stderr",
          "text": [
            "<ipython-input-112-c1a7c08dc21a>:1: FutureWarning: Dropping of nuisance columns in DataFrame reductions (with 'numeric_only=None') is deprecated; in a future version this will raise TypeError.  Select only valid columns before calling the reduction.\n",
            "  plt.hist(df_coaster.mean())\n"
          ]
        },
        {
          "output_type": "display_data",
          "data": {
            "text/plain": [
              "<Figure size 432x288 with 1 Axes>"
            ],
            "image/png": "[encoded data removed]"
          },
          "metadata": {
            "needs_background": "light"
          }
        }
      ]
    }
  ]
}