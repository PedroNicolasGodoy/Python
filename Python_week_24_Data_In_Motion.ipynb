{
  "nbformat": 4,
  "nbformat_minor": 0,
  "metadata": {
    "colab": {
      "provenance": []
    },
    "kernelspec": {
      "name": "python3",
      "display_name": "Python 3"
    },
    "language_info": {
      "name": "python"
    }
  },
  "cells": [
    {
      "cell_type": "markdown",
      "source": [
        "**Español: ==> Dada una variable persona:**\n",
        "\n",
        "person = [[\"name\", \"Bruce\"], [\"job\", \"Batman\"], [\"city\", \"Gotham\"]]​\n",
        "​\n",
        "\n",
        "Cree un diccionario llamado answer, que haga que cada primer elemento de cada lista sea una clave y el segundo elemento un valor correspondiente. Este es el objetivo final:\n",
        "\n",
        "{'name': 'Bruce', 'job': 'Batman', 'city': 'Gotham'}\n",
        "\n",
        "\n",
        "\n",
        "**Englihs ==> Given a person variable:**\n",
        "\n",
        "person = [[\"name\", \"Bruce\"], [\"job\", \"Batman\"], [\"city\", \"Gotham\"]]​\n",
        "​\n",
        "\n",
        "Create a dictionary called answer , that makes each first item in each list a key and the second item a corresponding value. This is the end goal:\n",
        "\n",
        "{'name': 'Bruce', 'job': 'Batman', 'city': 'Gotham'}"
      ],
      "metadata": {
        "id": "EZfJcv49tFhw"
      }
    },
    {
      "cell_type": "code",
      "execution_count": 7,
      "metadata": {
        "colab": {
          "base_uri": "https://localhost:8080/"
        },
        "id": "aD1CdcTisnV8",
        "outputId": "3830b48c-7e29-4a71-d378-826a6249e0b7"
      },
      "outputs": [
        {
          "output_type": "stream",
          "name": "stdout",
          "text": [
            "{'DC': [{'name': 'Bruce', 'job': 'Batman', 'city': 'Gotham'}]}\n"
          ]
        }
      ],
      "source": [
        "import json\n",
        "\n",
        "ruta=\"/content/sample_data\"\n",
        "\n",
        "answer={}\n",
        "\n",
        "answer['DC']=[]\n",
        "answer['DC'].append({\n",
        "    \"name\":'Bruce',\n",
        "    \"job\":'Batman',\n",
        "    \"city\":'Gotham'\n",
        "    })\n",
        "\n",
        "with open(ruta + \"/super_heroe.json\", 'w') as file:\n",
        "    json.dump(answer, file, indent=4)\n",
        "\n",
        "with open(ruta + \"/super_heroe.json\") as file:\n",
        "  x=json.load(file)\n",
        "  print(x)"
      ]
    },
    {
      "cell_type": "code",
      "source": [],
      "metadata": {
        "id": "3sW5L5JfvnSK"
      },
      "execution_count": null,
      "outputs": []
    }
  ]
}